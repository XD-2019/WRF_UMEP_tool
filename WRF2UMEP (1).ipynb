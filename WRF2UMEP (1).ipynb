{
 "cells": [
  {
   "cell_type": "code",
   "execution_count": 8,
   "id": "3b58c36f-d67c-4991-98a0-d6d9d317ac3e",
   "metadata": {},
   "outputs": [],
   "source": [
    "from netCDF4 import Dataset\n",
    "import rasterio\n",
    "\n",
    "from wrf import (to_np, getvar, smooth2d, get_cartopy, cartopy_xlim,\n",
    "                 cartopy_ylim, latlon_coords, interplevel)\n",
    "from wrf import ll_to_xy\n",
    "\n",
    "import numpy as np\n",
    "import pandas as pd\n",
    "from PIL import Image\n",
    "from PIL.Image import Resampling\n",
    "import PIL\n",
    "# from osgeo import gdal\n",
    "import glob\n",
    "import datetime\n",
    "\n",
    "from tqdm.notebook import tqdm\n",
    "# We'll be using widgets in the notebook\n",
    "import ipywidgets as widgets \n",
    "from IPython.display import display"
   ]
  },
  {
   "cell_type": "markdown",
   "id": "3fe68031-9bcb-44e7-b95d-0c460ae84d3d",
   "metadata": {},
   "source": [
    "# transfering WRF output to .NPY format"
   ]
  },
  {
   "cell_type": "code",
   "execution_count": null,
   "id": "1bb458cc-bdf7-4aaf-87f9-311d206a1021",
   "metadata": {},
   "outputs": [],
   "source": [
    "case_path = 'path to wrf output'\n",
    "\n",
    "date = '20210820'\n",
    "var_names = ['T2','rh2','wspd10','wdir10', 'SWDOWN', 'GLW', 'PSFC']\n",
    "\n",
    "paths = glob.glob(case_path+'\\%s'%date+'\\wrfout_d04*')\n",
    "\n",
    "from tqdm import tqdm\n",
    "for var_name in var_names:\n",
    "    i = 0\n",
    "    for path in tqdm(paths, desc='var_name'):\n",
    "        UTC0 = path[-19:]\n",
    "        UTC8 = pd.to_datetime(UTC0, format='%Y-%m-%d_%H_%M_%S') + datetime.timedelta(hours=8)\n",
    "        # print(LTC, ' ')\n",
    "        ncfile = Dataset(path)\n",
    "\n",
    "        if var_name in ['T2','TSK']:\n",
    "            field = to_np(getvar(ncfile, var_name)-273.15)\n",
    "        elif var_name=='PSFC':\n",
    "            field = to_np(getvar(ncfile, var_name)/1000)  # Pa to KPa\n",
    "        else:\n",
    "            field = to_np(getvar(ncfile, var_name))\n",
    "        if i ==0:\n",
    "            ary = field\n",
    "        else:\n",
    "            ary = np.dstack((ary, field))               \n",
    "\n",
    "        i+=1\n",
    "\n",
    "    ncfile.close()\n",
    "    np.save(case_path + r'\\%s_'%var_name+date, np.array(ary.transpose(2,0,1)))"
   ]
  },
  {
   "cell_type": "markdown",
   "id": "d1a07595-f7bd-4aef-94a9-b319c3043600",
   "metadata": {},
   "source": [
    "## initialization"
   ]
  },
  {
   "cell_type": "code",
   "execution_count": 7,
   "id": "5551c6c7-101c-4f8d-a582-358a9d71c509",
   "metadata": {},
   "outputs": [],
   "source": [
    "def umep_met_init():\n",
    "    columns = ['#iy','id','it','imin','Q*','QH','QE','Qs','Qf',\n",
    "               'Wind','RH','Td','press','rain','Kdn','snow',\n",
    "               'ldown','fcld','wuh','xsmd','lai_hr','Kdiff','Kdir','Wd']\n",
    "    # time index\n",
    "    ids = [232]*16 + [233]*24 + [234]*24 + [235]*9\n",
    "    it = list(range(8,24))+list(range(24))+list(range(24))+list(range(9))\n",
    "    iy, imin = [2021]*73, [0]*73\n",
    "    rain = [0]*73\n",
    "\n",
    "    umep_met = pd.DataFrame([], columns = columns)\n",
    "    umep_met['#iy'], umep_met.id, umep_met.it, umep_met.imin = iy, ids, it, imin\n",
    "    umep_met.rain = rain\n",
    "    umep_met = umep_met.fillna(-999)\n",
    "    \n",
    "    return umep_met"
   ]
  },
  {
   "cell_type": "code",
   "execution_count": null,
   "id": "842bb1a4-764e-4dce-8334-f4fd028cc98c",
   "metadata": {},
   "outputs": [],
   "source": [
    "case_path = 'path to wrf output'\n",
    "\n",
    "var_names = ['T2','rh2','wspd10','wdir10', 'SWDOWN', 'GLW', 'PSFC']\n",
    "var_dict = {'wspd10':'Wind','rh2':'RH','T2':'Td','PSFC':'press','SWDOWN':'Kdn','GLW':'ldown','wdir10':'Wd'}\n",
    "\n",
    "umep_met = umep_met_init()\n",
    "npy_path = case_path + r'\\%s_%s.npy'%('SWDOWN', '20210820')\n",
    "SWDOWN = np.load(npy_path).mean(axis=1).mean(axis=1)\n",
    "npy_path = case_path + r'\\%s_%s.npy'%('GLW', '20210820')\n",
    "GLW = np.load(npy_path).mean(axis=1).mean(axis=1)\n",
    "\n",
    "umep_met[var_dict['SWDOWN']] = SWDOWN\n",
    "umep_met[var_dict['GLW']] = GLW\n",
    "umep_met[var_dict['GLW']]"
   ]
  },
  {
   "cell_type": "markdown",
   "id": "8bb525be-ab5a-4f85-beeb-6eeed96b8c8f",
   "metadata": {},
   "source": [
    "# using mean values for radiation to remove cloud effect"
   ]
  },
  {
   "cell_type": "code",
   "execution_count": null,
   "id": "4d281f7e-48fb-44ba-a1dc-cb9d883820ad",
   "metadata": {},
   "outputs": [],
   "source": [
    "# var_names = ['T2','rh2','wspd10','wdir10', 'SWDOWN', 'GLW', 'PSFC']\n",
    "var_names = ['wspd10','rh2','T2','PSFC','wdir10']\n",
    "\n",
    "var_dict = {'wspd10':'Wind','rh2':'RH','T2':'Td','PSFC':'press','SWDOWN':'Kdn','GLW':'ldown','wdir10':'Wd'}\n",
    "date='20210820'\n",
    "case_path = r'E:\\p5_UWGs\\CASES\\20210820\\case2\\REAL'\n",
    "output_path = r'E:\\p5_UWGs\\QGIS proj\\UMEP data\\MET\\wrf2umep'\n",
    "\n",
    "# using mean values for radiation to remove cloud effect\n",
    "npy_path = case_path + r'\\%s_%s.npy'%('SWDOWN', '20210820')\n",
    "SWDOWN = np.load(npy_path).mean(axis=1).mean(axis=1)\n",
    "npy_path = case_path + r'\\%s_%s.npy'%('GLW', '20210820')\n",
    "GLW = np.load(npy_path).mean(axis=1).mean(axis=1)\n",
    "\n",
    "for nlon in range(120):\n",
    "    for nlat in range(120):\n",
    "        umep_met = umep_met_init()\n",
    "        umep_met[var_dict['SWDOWN']] = SWDOWN\n",
    "        umep_met[var_dict['GLW']] = GLW\n",
    "        \n",
    "        for var_name in var_names:   \n",
    "            npy_path = case_path + r'\\%s_%s.npy'%(var_name, date)\n",
    "            met_data = np.load(npy_path)\n",
    "            umep_met[var_dict[var_name]] = met_data[:,nlat,nlon]\n",
    "            \n",
    "        umep_met.to_csv(output_path + r'\\wrf2umep_%.2d_%.2d.txt'%(nlon, nlat), index=None, sep=' ')"
   ]
  }
 ],
 "metadata": {
  "kernelspec": {
   "display_name": "Python 3 (ipykernel)",
   "language": "python",
   "name": "python3"
  },
  "language_info": {
   "codemirror_mode": {
    "name": "ipython",
    "version": 3
   },
   "file_extension": ".py",
   "mimetype": "text/x-python",
   "name": "python",
   "nbconvert_exporter": "python",
   "pygments_lexer": "ipython3",
   "version": "3.9.15"
  }
 },
 "nbformat": 4,
 "nbformat_minor": 5
}
